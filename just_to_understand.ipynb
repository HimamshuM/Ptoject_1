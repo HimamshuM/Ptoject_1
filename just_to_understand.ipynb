{
 "cells": [
  {
   "cell_type": "code",
   "execution_count": null,
   "metadata": {},
   "outputs": [],
   "source": [
    "import os\n",
    "from pathlib import Path \n",
    "import logging\n",
    "\n",
    "logging.basicConfig(level=logging.INFO, format='[%(asctime)s]:%(message)s:')\n",
    "\n",
    "project_name = \"datascience\"\n",
    "\n",
    "list_of_files = [\n",
    "    \".github/workflows/.gitkeep\",\n",
    "    f\"src/{project_name}/__init__.py\",\n",
    "    f\"src/{project_name}/components/__init__.py\",\n",
    "    f\"src/{project_name}/utils/__init__.py\",\n",
    "    f\"src/{project_name}/utils/common.py\",\n",
    "    f\"src/{project_name}/config/__init__.py\",\n",
    "    f\"src/{project_name}/config/configuration.py\",\n",
    "    f\"src/{project_name}/pipeline/__init__.py\",\n",
    "    f\"src/{project_name}/entity/__init__.py\",\n",
    "    f\"src/{project_name}/entity/config_entity.py\",\n",
    "    f\"src/{project_name}/constants/__init__.py\",\n",
    "    \"config/config.yaml\",\n",
    "    \"params.yaml\",\n",
    "    \"schema.yaml\",\n",
    "    \"main.py\",\n",
    "    \"Dockerfile\",\n",
    "    \"setup.py\",\n",
    "    \"research/research.ipynb\",\n",
    "    \"templets/index.html\",\n",
    "    \"app.py\"\n",
    "]\n",
    "\n",
    "\n"
   ]
  },
  {
   "cell_type": "code",
   "execution_count": 3,
   "metadata": {},
   "outputs": [
    {
     "name": "stdout",
     "output_type": "stream",
     "text": [
      "----> .github\\workflows -----------> .gitkeep\n",
      "\n",
      "----> src\\datascience -----------> __init__.py\n",
      "\n",
      "----> src\\datascience\\components -----------> __init__.py\n",
      "\n",
      "----> src\\datascience\\utils -----------> __init__.py\n",
      "\n",
      "----> src\\datascience\\utils -----------> common.py\n",
      "\n",
      "----> src\\datascience\\config -----------> __init__.py\n",
      "\n",
      "----> src\\datascience\\config -----------> configuration.py\n",
      "\n",
      "----> src\\datascience\\pipeline -----------> __init__.py\n",
      "\n",
      "----> src\\datascience\\entity -----------> __init__.py\n",
      "\n",
      "----> src\\datascience\\entity -----------> config_entity.py\n",
      "\n",
      "----> src\\datascience\\constants -----------> __init__.py\n",
      "\n",
      "----> config -----------> config.yaml\n",
      "\n",
      "---->  -----------> params.yaml\n",
      "\n",
      "---->  -----------> schema.yaml\n",
      "\n",
      "---->  -----------> main.py\n",
      "\n",
      "---->  -----------> Dockerfile\n",
      "\n",
      "---->  -----------> setup.py\n",
      "\n",
      "----> research -----------> research.ipynb\n",
      "\n",
      "----> templets -----------> index.html\n",
      "\n",
      "---->  -----------> app.py\n",
      "\n"
     ]
    }
   ],
   "source": [
    "for filepath in list_of_files:\n",
    "    filepath = Path(filepath)\n",
    "    filedir, filename = os.path.split(filepath)\n",
    "    print(\"---->\",filedir, \"----------->\",filename )\n",
    "    print()"
   ]
  }
 ],
 "metadata": {
  "kernelspec": {
   "display_name": "Python 3",
   "language": "python",
   "name": "python3"
  },
  "language_info": {
   "codemirror_mode": {
    "name": "ipython",
    "version": 3
   },
   "file_extension": ".py",
   "mimetype": "text/x-python",
   "name": "python",
   "nbconvert_exporter": "python",
   "pygments_lexer": "ipython3",
   "version": "3.10.0"
  }
 },
 "nbformat": 4,
 "nbformat_minor": 2
}
